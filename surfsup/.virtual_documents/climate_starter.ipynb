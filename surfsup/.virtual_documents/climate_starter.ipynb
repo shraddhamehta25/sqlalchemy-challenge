%matplotlib inline
from matplotlib import style
style.use('fivethirtyeight')
import matplotlib.pyplot as plt


import numpy as np
import pandas as pd
import datetime as dt





# Python SQL toolkit and Object Relational Mapper
import sqlalchemy
from sqlalchemy.ext.automap import automap_base
from sqlalchemy.orm import Session
from sqlalchemy import create_engine, func


# create engine to hawaii.sqlite
engine = create_engine("sqlite:///Resources/hawaii.sqlite")


# reflect an existing database into a new model
Base = automap_base()

# reflect the tables
Base.prepare(engine, reflect=True)


# View all of the classes that automap found
Base.classes.keys()



# Save references to each table
Station = Base.classes.station
Measurement = Base.classes.measurement



# Import Session class from SQLAlchemy
from sqlalchemy.orm import Session

# Create our session (link) from Python to the DB
session = Session(engine)





# Import necessary modules
from sqlalchemy import desc

# Query the most recent date in the dataset
most_recent_date = session.query(Measurement.date).order_by(desc(Measurement.date)).first()

# Print the most recent date
print("The most recent date in the dataset is:", most_recent_date[0])


# Calculate the date one year from the most recent date in the dataset
most_recent_date = session.query(Measurement.date).order_by(desc(Measurement.date)).first()
most_recent_date = dt.datetime.strptime(most_recent_date[0], '%Y-%m-%d')
one_year_ago = most_recent_date - dt.timedelta(days=365)

# Perform a query to retrieve the dates and precipitation scores for the last 12 months
precipitation_data = session.query(Measurement.date, Measurement.prcp).filter(Measurement.date >= one_year_ago).all()

# Save the query results as a Pandas DataFrame and explicitly set the column names
precipitation_df = pd.DataFrame(precipitation_data, columns=['Date', 'Precipitation'])

# Sort the DataFrame by date
precipitation_df = precipitation_df.sort_values(by='Date')

# Use Pandas plotting with Matplotlib to plot the data
precipitation_df.plot(x='Date', y='Precipitation', figsize=(10, 6), title='Precipitation Analysis', xlabel='Date', ylabel='Precipitation (inches)', legend=False)
plt.xticks(rotation=45)
plt.tight_layout()
plt.show()


# Use Pandas to calculate the summary statistics for the precipitation data
summary_statistics = precipitation_df['Precipitation'].describe()

# Print the summary statistics
print(summary_statistics)





# Design a query to calculate the total number of stations in the dataset
total_stations = session.query(func.count(Station.station)).scalar()

# Print the total number of stations
print("Total number of stations in the dataset:", total_stations)


# Design a query to find the most active stations and their counts
most_active_stations = session.query(Measurement.station, func.count(Measurement.station)).\
                                group_by(Measurement.station).\
                                order_by(func.count(Measurement.station).desc()).all()

# Print the most active stations and their counts
print("Most active stations:")
for station, count in most_active_stations:
    print(f"Station ID: {station}, Observations: {count}")


# Extract the most active station ID from the previous query
most_active_station_id = most_active_stations[0][0]

# Design a query to calculate the lowest, highest, and average temperature for the most active station
temperature_stats = session.query(func.min(Measurement.tobs),
                                  func.max(Measurement.tobs),
                                  func.avg(Measurement.tobs)).\
                            filter(Measurement.station == most_active_station_id).all()

# Print the lowest, highest, and average temperature for the most active station
print("Temperature statistics for the most active station (Station ID:", most_active_station_id, "):")
print("Lowest Temperature:", temperature_stats[0][0])
print("Highest Temperature:", temperature_stats[0][1])
print("Average Temperature:", round(temperature_stats[0][2], 2))


# Design a query to get the last 12 months of temperature observation (TOBS) data for the most active station
temperature_data = session.query(Measurement.tobs).\
                            filter(Measurement.station == most_active_station_id).\
                            filter(Measurement.date >= one_year_ago).all()

# Save the query results as a Pandas DataFrame
temperature_df = pd.DataFrame(temperature_data, columns=['Temperature'])

# Plot the results as a histogram
plt.figure(figsize=(8, 6))
plt.hist(temperature_df['Temperature'], bins=12, color='skyblue', edgecolor='black', alpha=0.7)
plt.title('Temperature Observation Data for Most Active Station')
plt.xlabel('Temperature (°F)')
plt.ylabel('Frequency')
plt.grid(True)
plt.tight_layout()
plt.show()





# Close Session
session.close()



